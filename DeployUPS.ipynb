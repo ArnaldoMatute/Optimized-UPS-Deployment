{
 "cells": [
  {
   "cell_type": "markdown",
   "metadata": {
    "id": "mFZiLyRhjAHI"
   },
   "source": [
    "# UPS Deploy - Costs Optimization with Gurobi"
   ]
  },
  {
   "cell_type": "markdown",
   "metadata": {},
   "source": [
    "Deploying a UPS could be an expensive task considering how heavy and big its components are. Battery cabinets could weigh tons and PDUs (Power Distribution Units) are also critical and costly. Space constraints are also pitfalls we can find often when there are other pieces of equipment in the same room. Then, sometimes PDUs o battery cabinets must be installed far away from the UPS, involving crazy long cables, which causes to deal with considerable costs and voltage drops. In this example, we have a typical case where the UPS has been installed, but there are just eight available spots for battery cabinets and PDUs."
   ]
  },
  {
   "attachments": {
    "UPSDeployGurobi3.png": {
     "image/png": "[encoded data removed]"
    }
   },
   "cell_type": "markdown",
   "metadata": {},
   "source": [
    "![UPSDeployGurobi3.png](attachment:UPSDeployGurobi3.png)"
   ]
  },
  {
   "cell_type": "markdown",
   "metadata": {},
   "source": [
    "For each spot, the installation costs have been calculated. They rely on the fact that, for instance, spot 4 is already free to use for any type of cabinet (Battery or PDU). On the other hand, spots 2 and 3 have other equipment to be retired, which elevates their costs. Spot 5 is also easy for installing cabinets, but it is outside the room and needs long cables to connect what it will have. Enumerating all the details about the cost of installing something at each spot can be a never-ending story. The following table summarizes the costs and the length of the cables needed for each spot."
   ]
  },
  {
   "cell_type": "markdown",
   "metadata": {},
   "source": [
    "\n",
    "## Cable lengths and Deploying costs to each spot \n",
    "\n",
    "\n",
    "| Spot | Length [m] | Cost for Battery [\\$] | Cost for PDU [\\$] | MaxPDURate [kVA] |\n",
    "| --- | --- | --- | --- | --- |\n",
    "| 1 | 6 | 1000 | 500 | 30 |\n",
    "| 2 | 10 | 700 | 350 | 40 |\n",
    "| 3 | 12 | 800 | 550 | 80 |\n",
    "| 4 | 15 | 400 | 100 | 60 |\n",
    "| 5 | 20 | 650 | 250 | 20 |\n",
    "| 6 | 6 | 750 | 400 | 50 |\n",
    "| 7 | 8 | 950 | 950 | 20 |\n",
    "| 8 | 8 | 950 | 950 | 20 |\n"
   ]
  },
  {
   "cell_type": "markdown",
   "metadata": {},
   "source": [
    "Due to further situations found when defining the cable routing and sizing, which could be physical or even of availability or budgetary, other limitations showed up. It has not been always feasible to deploy thick cables between the UPS and each PDU. This limits the power that could flow. This constraint has been found concerning just for PDU and not for Batteries. The last column in the prior table shows the maximum rate in kVA that could possibly flow to each spot."
   ]
  },
  {
   "cell_type": "markdown",
   "metadata": {},
   "source": [
    "Additionally, there were other issues to pay attention to:\n",
    " - Spots 7 and 8 are not suitable for battery cabinets due to constraints in the floor construction.\n",
    " - At least, four PDUs must be deployed.\n",
    " - Just two battery banks will be installed\n",
    " - The must be enough number of PDUs to fully load the Ups (240kVA)\n",
    "\n",
    "Finally, the costs of each meter of cable are:"
   ]
  },
  {
   "cell_type": "markdown",
   "metadata": {},
   "source": [
    "## Cable cost per unit length\n",
    "\n",
    "| Batt | PDU |\n",
    "| --- | --- | \n",
    "| \\begin{equation}{\\$}{1.15}\\end{equation} | \\begin{equation}{\\$}{0.75}\\end{equation} |\n"
   ]
  },
  {
   "cell_type": "markdown",
   "metadata": {},
   "source": [
    "An optimization problem must be deployed next to find the least costly installation as possible."
   ]
  },
  {
   "cell_type": "markdown",
   "metadata": {},
   "source": [
    "## Model Formulation\n",
    "\n",
    "### Indices\n",
    "\n",
    "$S(I)$: List that represent every available spot.\n",
    "\n",
    "### Parameters\n",
    "\n",
    "$L_{i} \\in \\mathbb{R}$: Lengths of cables from the UPS to each spot.\n",
    "\n",
    "$cb_{i} \\in \\mathbb{R}^+ $: Cost of deploying a battery cabinet at each spot.\n",
    "\n",
    "$cp_{i} \\in \\mathbb{R}^+ $: Cost of deploying a PDU at each spot.\n",
    "\n",
    "$P_{i} \\in \\mathbb{R}^+$: Maximal Power that can be delivered to each spot to feed PDUs.\n",
    "\n",
    "$CCB \\in \\mathbb{R}^+$: Cost of battery cables per unit length.\n",
    "\n",
    "$CCP \\in \\mathbb{R}^+$: Cost of PDU cables per unit length.\n",
    "\n"
   ]
  },
  {
   "cell_type": "code",
   "execution_count": 157,
   "metadata": {},
   "outputs": [],
   "source": [
    "CableCost = {'Batts': 1.15, 'PDU': 0.75}\n",
    "total_load = 240"
   ]
  },
  {
   "cell_type": "code",
   "execution_count": 158,
   "metadata": {},
   "outputs": [],
   "source": [
    "import numpy as np\n",
    "import gurobipy as gp\n",
    "from gurobipy import GRB"
   ]
  },
  {
   "cell_type": "code",
   "execution_count": 159,
   "metadata": {
    "id": "gXS2cDdIjAHX"
   },
   "outputs": [],
   "source": [
    "# Parameters\n",
    "\n",
    "spots, L, Battcost, PDUcost, PDUMaxRate = gp.multidict({\n",
    "    (0): [6, 1000, 500, 30],\n",
    "    (1): [10, 700, 350, 40],\n",
    "    (2): [12, 800, 550, 80],\n",
    "    (3): [15, 400, 100, 60],\n",
    "    (4): [20, 650, 250, 20],\n",
    "    (5): [6, 750, 400, 50],\n",
    "    (6): [8, 0, 950, 20],\n",
    "    (7): [8, 0, 950, 20]\n",
    "})"
   ]
  },
  {
   "cell_type": "markdown",
   "metadata": {},
   "source": [
    "\n",
    "### Decision Variables\n",
    "\n",
    "$ForBatts_{i} \\in \\{0, 1 \\}$: This variable is equal to 1 if we install a battery cabinet at the spot \\$i$ and 0 otherwise.\n",
    "\n",
    "$ForPDU_{i} \\in \\{0, 1 \\}$: This variable is equal to 1 if we install a PDU at the spot \\$i$ and 0 otherwise."
   ]
  },
  {
   "cell_type": "code",
   "execution_count": 160,
   "metadata": {
    "id": "WPMUicsdjAHZ",
    "outputId": "8e86983a-e5b3-42de-9f13-71b1a6c0acaf",
    "scrolled": true
   },
   "outputs": [],
   "source": [
    "# Model formulation\n",
    "\n",
    "m = gp.Model(\"DeployUPS\")\n",
    "\n",
    "# Add variables\n",
    "ForBatts = m.addVars(spots[0:6], vtype=GRB.BINARY, name = \"ForBatts\")\n",
    "ForPDU = m.addVars(spots, vtype=GRB.BINARY, name = \"ForPDU\")"
   ]
  },
  {
   "cell_type": "markdown",
   "metadata": {},
   "source": [
    "Notice that for battery indexes just spots from 0 through 5 where defined for the variable $ForBatts_{i}$ "
   ]
  },
  {
   "cell_type": "markdown",
   "metadata": {},
   "source": [
    "## Constraints 1 through 6: There cannot be a battery cabinet where a PDU will be installed (and vice-versa)\n",
    "\n",
    "\\begin{equation}\n",
    "ForBatts_{i} + ForPDU_{i} <= 1 \\quad \\forall i \\in I(0:5)\n",
    "\\tag{1-6}\n",
    "\\end{equation}"
   ]
  },
  {
   "cell_type": "code",
   "execution_count": 161,
   "metadata": {},
   "outputs": [
    {
     "data": {
      "text/plain": [
       "{0: <gurobi.Constr *Awaiting Model Update*>,\n",
       " 1: <gurobi.Constr *Awaiting Model Update*>,\n",
       " 2: <gurobi.Constr *Awaiting Model Update*>,\n",
       " 3: <gurobi.Constr *Awaiting Model Update*>,\n",
       " 4: <gurobi.Constr *Awaiting Model Update*>,\n",
       " 5: <gurobi.Constr *Awaiting Model Update*>}"
      ]
     },
     "execution_count": 161,
     "metadata": {},
     "output_type": "execute_result"
    }
   ],
   "source": [
    "# Add constraints\n",
    "# In every spot there must be a Battery cabinet or a PDU. They cannot have two\n",
    "m.addConstrs((ForBatts[s] + ForPDU[s] <= 1 for s in spots[0:6]), name = \"OrBattOrPDU\")"
   ]
  },
  {
   "cell_type": "markdown",
   "metadata": {},
   "source": [
    "## Constraint 7: There must be just two battery banks\n",
    "\n",
    "\n",
    "\n",
    "\\begin{equation}\n",
    "\\sum_{i \\in I} ForBatts_{i} = 2 \\quad \\forall i \\in I(0:5)\n",
    "\\tag{7}\n",
    "\\end{equation}"
   ]
  },
  {
   "cell_type": "code",
   "execution_count": 162,
   "metadata": {},
   "outputs": [
    {
     "data": {
      "text/plain": [
       "<gurobi.Constr *Awaiting Model Update*>"
      ]
     },
     "execution_count": 162,
     "metadata": {},
     "output_type": "execute_result"
    }
   ],
   "source": [
    "m.addConstr(ForBatts.sum('*') == 2, name = \"Just2Batts\")"
   ]
  },
  {
   "cell_type": "markdown",
   "metadata": {},
   "source": [
    "## Constraint 8: There must be at least four PDUs\n",
    "\n",
    "\n",
    "\n",
    "\\begin{equation}\n",
    "\\sum_{i \\in I} ForPDU_{i} <= 4 \\quad \\forall i \\in I\n",
    "\\tag{8}\n",
    "\\end{equation}"
   ]
  },
  {
   "cell_type": "code",
   "execution_count": 163,
   "metadata": {},
   "outputs": [
    {
     "data": {
      "text/plain": [
       "<gurobi.Constr *Awaiting Model Update*>"
      ]
     },
     "execution_count": 163,
     "metadata": {},
     "output_type": "execute_result"
    }
   ],
   "source": [
    "m.addConstr(ForPDU.sum('*') >= 4, name = \"AtLeast4PDUs\")"
   ]
  },
  {
   "cell_type": "markdown",
   "metadata": {},
   "source": [
    "## Constraint 9: All 240kVA must be fullfilled\n",
    "\n",
    "\\begin{equation}\n",
    "\\sum_{i \\in I} P_{i}*ForPDU_{i} >= 240kVA \\quad \\forall i \\in I\n",
    "\\tag{9}\n",
    "\\end{equation}"
   ]
  },
  {
   "cell_type": "code",
   "execution_count": 164,
   "metadata": {},
   "outputs": [
    {
     "data": {
      "text/plain": [
       "<gurobi.Constr *Awaiting Model Update*>"
      ]
     },
     "execution_count": 164,
     "metadata": {},
     "output_type": "execute_result"
    }
   ],
   "source": [
    "m.addConstr(ForPDU.prod(PDUMaxRate) >= total_load, name = \"ProvideAllLoad\")"
   ]
  },
  {
   "cell_type": "markdown",
   "metadata": {},
   "source": [
    "## Objective Function: \n",
    "\n",
    "\\begin{equation}\n",
    "\\text{Min} \\sum_{i \\in I} cp_{i} \\cdot ForPDU_{i} + cb_{i} \\cdot ForBatts_{i} + CCP \\cdot L_{i} \\cdot ForPDU_{i} + CCB \\cdot L_{i} \\cdot ForBatts_{i}  \\quad \\forall i \\in I\n",
    "\\tag{10}\n",
    "\\end{equation}\n"
   ]
  },
  {
   "cell_type": "code",
   "execution_count": 165,
   "metadata": {},
   "outputs": [],
   "source": [
    "obj = ForPDU.prod(PDUcost) + ForBatts.prod(Battcost) + CableCost[\"PDU\"]*ForPDU.prod(L) + CableCost[\"Batts\"]*ForBatts.prod(L)\n",
    "\n",
    "m.setObjective(obj, GRB.MINIMIZE)\n"
   ]
  },
  {
   "cell_type": "code",
   "execution_count": 166,
   "metadata": {},
   "outputs": [
    {
     "name": "stdout",
     "output_type": "stream",
     "text": [
      "Gurobi Optimizer version 10.0.1 build v10.0.1rc0 (win64)\n",
      "\n",
      "CPU model: Intel(R) Core(TM) i7-7500U CPU @ 2.70GHz, instruction set [SSE2|AVX|AVX2]\n",
      "Thread count: 2 physical cores, 4 logical processors, using up to 4 threads\n",
      "\n",
      "Optimize a model with 9 rows, 14 columns and 34 nonzeros\n",
      "Model fingerprint: 0xed144796\n",
      "Variable types: 0 continuous, 14 integer (14 binary)\n",
      "Coefficient statistics:\n",
      "  Matrix range     [1e+00, 8e+01]\n",
      "  Objective range  [1e+02, 1e+03]\n",
      "  Bounds range     [1e+00, 1e+00]\n",
      "  RHS range        [1e+00, 2e+02]\n",
      "Found heuristic solution: objective 4827.7500000\n",
      "Presolve removed 5 rows and 6 columns\n",
      "Presolve time: 0.00s\n",
      "Presolved: 4 rows, 8 columns, 15 nonzeros\n",
      "Variable types: 0 continuous, 8 integer (7 binary)\n",
      "\n",
      "Root relaxation: objective 3.590150e+03, 6 iterations, 0.00 seconds (0.00 work units)\n",
      "\n",
      "    Nodes    |    Current Node    |     Objective Bounds      |     Work\n",
      " Expl Unexpl |  Obj  Depth IntInf | Incumbent    BestBd   Gap | It/Node Time\n",
      "\n",
      "     0     0 3590.15000    0    1 4827.75000 3590.15000  25.6%     -    0s\n",
      "H    0     0                    4068.1500000 3590.15000  11.7%     -    0s\n",
      "H    0     0                    3919.7500000 3590.15000  8.41%     -    0s\n",
      "     0     0 3590.15000    0    1 3919.75000 3590.15000  8.41%     -    0s\n",
      "\n",
      "Explored 1 nodes (6 simplex iterations) in 0.03 seconds (0.00 work units)\n",
      "Thread count was 4 (of 4 available processors)\n",
      "\n",
      "Solution count 3: 3919.75 4068.15 4827.75 \n",
      "\n",
      "Optimal solution found (tolerance 1.00e-04)\n",
      "Best objective 3.919750000000e+03, best bound 3.919750000000e+03, gap 0.0000%\n"
     ]
    }
   ],
   "source": [
    "m.optimize()"
   ]
  },
  {
   "cell_type": "markdown",
   "metadata": {},
   "source": [
    "The optimal results yield a cost of USD 3939.75 and comprise deploying battery banks in spots 2 and 5 whereas five PDUs must be installed in spots 1, 3, 4, 6, and 8."
   ]
  },
  {
   "cell_type": "code",
   "execution_count": 167,
   "metadata": {},
   "outputs": [
    {
     "data": {
      "text/plain": [
       "{0: <gurobi.Var ForBatts[0] (value -0.0)>,\n",
       " 1: <gurobi.Var ForBatts[1] (value 1.0)>,\n",
       " 2: <gurobi.Var ForBatts[2] (value 0.0)>,\n",
       " 3: <gurobi.Var ForBatts[3] (value 0.0)>,\n",
       " 4: <gurobi.Var ForBatts[4] (value 1.0)>,\n",
       " 5: <gurobi.Var ForBatts[5] (value -0.0)>}"
      ]
     },
     "execution_count": 167,
     "metadata": {},
     "output_type": "execute_result"
    }
   ],
   "source": [
    "ForBatts"
   ]
  },
  {
   "cell_type": "code",
   "execution_count": 168,
   "metadata": {},
   "outputs": [
    {
     "data": {
      "text/plain": [
       "{0: <gurobi.Var ForPDU[0] (value 1.0)>,\n",
       " 1: <gurobi.Var ForPDU[1] (value 0.0)>,\n",
       " 2: <gurobi.Var ForPDU[2] (value 1.0)>,\n",
       " 3: <gurobi.Var ForPDU[3] (value 1.0)>,\n",
       " 4: <gurobi.Var ForPDU[4] (value -0.0)>,\n",
       " 5: <gurobi.Var ForPDU[5] (value 1.0)>,\n",
       " 6: <gurobi.Var ForPDU[6] (value 0.0)>,\n",
       " 7: <gurobi.Var ForPDU[7] (value 1.0)>}"
      ]
     },
     "execution_count": 168,
     "metadata": {},
     "output_type": "execute_result"
    }
   ],
   "source": [
    "ForPDU"
   ]
  },
  {
   "cell_type": "markdown",
   "metadata": {},
   "source": []
  },
  {
   "cell_type": "code",
   "execution_count": null,
   "metadata": {},
   "outputs": [],
   "source": []
  }
 ],
 "metadata": {
  "colab": {
   "provenance": []
  },
  "kernelspec": {
   "display_name": "Python 3 (ipykernel)",
   "language": "python",
   "name": "python3"
  },
  "language_info": {
   "codemirror_mode": {
    "name": "ipython",
    "version": 3
   },
   "file_extension": ".py",
   "mimetype": "text/x-python",
   "name": "python",
   "nbconvert_exporter": "python",
   "pygments_lexer": "ipython3",
   "version": "3.7.16"
  }
 },
 "nbformat": 4,
 "nbformat_minor": 1
}
